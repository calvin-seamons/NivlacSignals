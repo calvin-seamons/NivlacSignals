{
 "cells": [
  {
   "cell_type": "code",
   "execution_count": 3,
   "metadata": {},
   "outputs": [],
   "source": [
    "from data.DataPipeline import DataPipeline"
   ]
  },
  {
   "cell_type": "code",
   "execution_count": 4,
   "metadata": {},
   "outputs": [
    {
     "name": "stdout",
     "output_type": "stream",
     "text": [
      "[13:27:48] INFO: Fetching data for 3 symbols...\n",
      "[13:27:48] INFO: Fetching data for 3 symbols...\n",
      "[13:27:48] INFO: Successfully fetched data for 3 symbols\n",
      "[13:27:48] INFO: Successfully fetched data for 3 symbols\n",
      "\n",
      "Status after fetch:\n",
      "{'raw_data': {'count': 3, 'symbols': ['GOOGL', 'AAPL', 'MSFT'], 'sample_columns': ['Open', 'High', 'Low', 'Close', 'Volume', 'Dividends', 'Stock Splits']}, 'processed_data': {'count': 0, 'symbols': [], 'sample_columns': None}, 'universe': {'count': 0, 'symbols': []}}\n",
      "[13:27:48] INFO: Starting data processing with 3 symbols\n",
      "[13:27:48] INFO: Starting data processing with 3 symbols\n",
      "[13:27:48] INFO: Processed data for 3 symbols\n",
      "[13:27:48] INFO: Processed data for 3 symbols\n",
      "\n",
      "Status after processing:\n",
      "{'raw_data': {'count': 3, 'symbols': ['GOOGL', 'AAPL', 'MSFT'], 'sample_columns': ['Open', 'High', 'Low', 'Close', 'Volume', 'Dividends', 'Stock Splits']}, 'processed_data': {'count': 3, 'symbols': ['GOOGL', 'AAPL', 'MSFT'], 'sample_columns': ['Open', 'High', 'Low', 'Close', 'Volume', 'Dividends', 'Stock Splits', 'returns', 'log_returns', 'volatility', 'volume_ma']}, 'universe': {'count': 0, 'symbols': []}}\n",
      "[13:27:48] INFO: Created universe with 3 symbols\n",
      "[13:27:48] INFO: Created universe with 3 symbols\n",
      "\n",
      "Final status:\n",
      "{'raw_data': {'count': 3, 'symbols': ['GOOGL', 'AAPL', 'MSFT'], 'sample_columns': ['Open', 'High', 'Low', 'Close', 'Volume', 'Dividends', 'Stock Splits']}, 'processed_data': {'count': 3, 'symbols': ['GOOGL', 'AAPL', 'MSFT'], 'sample_columns': ['Open', 'High', 'Low', 'Close', 'Volume', 'Dividends', 'Stock Splits', 'returns', 'log_returns', 'volatility', 'volume_ma']}, 'universe': {'count': 3, 'symbols': ['AAPL', 'GOOGL', 'MSFT']}}\n"
     ]
    },
    {
     "name": "stderr",
     "output_type": "stream",
     "text": [
      "/Users/calvinseamons/Repositories/NivlacSignals/CS470_Project/ml_trading_strategy/data/DataPipeline.py:211: FutureWarning: DataFrame.fillna with 'method' is deprecated and will raise in a future version. Use obj.ffill() or obj.bfill() instead.\n",
      "  df = df.fillna(method='ffill')\n",
      "/Users/calvinseamons/Repositories/NivlacSignals/CS470_Project/ml_trading_strategy/data/DataPipeline.py:214: FutureWarning: DataFrame.fillna with 'method' is deprecated and will raise in a future version. Use obj.ffill() or obj.bfill() instead.\n",
      "  df = df.fillna(method='bfill')\n",
      "/Users/calvinseamons/Repositories/NivlacSignals/CS470_Project/ml_trading_strategy/data/DataPipeline.py:211: FutureWarning: DataFrame.fillna with 'method' is deprecated and will raise in a future version. Use obj.ffill() or obj.bfill() instead.\n",
      "  df = df.fillna(method='ffill')\n",
      "/Users/calvinseamons/Repositories/NivlacSignals/CS470_Project/ml_trading_strategy/data/DataPipeline.py:214: FutureWarning: DataFrame.fillna with 'method' is deprecated and will raise in a future version. Use obj.ffill() or obj.bfill() instead.\n",
      "  df = df.fillna(method='bfill')\n",
      "/Users/calvinseamons/Repositories/NivlacSignals/CS470_Project/ml_trading_strategy/data/DataPipeline.py:211: FutureWarning: DataFrame.fillna with 'method' is deprecated and will raise in a future version. Use obj.ffill() or obj.bfill() instead.\n",
      "  df = df.fillna(method='ffill')\n",
      "/Users/calvinseamons/Repositories/NivlacSignals/CS470_Project/ml_trading_strategy/data/DataPipeline.py:214: FutureWarning: DataFrame.fillna with 'method' is deprecated and will raise in a future version. Use obj.ffill() or obj.bfill() instead.\n",
      "  df = df.fillna(method='bfill')\n"
     ]
    }
   ],
   "source": [
    "# Initialize pipeline\n",
    "pipeline = DataPipeline(\n",
    "    start_date='2010-01-01',\n",
    "    end_date='2023-12-31',\n",
    "    universe_size=500,\n",
    "    cache_dir='data/cache',\n",
    "    price_col='Close'  # Changed from 'Adj Close' to 'Close'\n",
    ")\n",
    "\n",
    "# Fetch data\n",
    "symbols = ['AAPL', 'GOOGL', 'MSFT']\n",
    "pipeline.fetch_data(symbols)\n",
    "\n",
    "# Check status after fetch\n",
    "print(\"\\nStatus after fetch:\")\n",
    "print(pipeline.check_data_status())\n",
    "\n",
    "# Process data\n",
    "pipeline.process_data()\n",
    "\n",
    "# Check status after processing\n",
    "print(\"\\nStatus after processing:\")\n",
    "print(pipeline.check_data_status())\n",
    "\n",
    "# Create universe\n",
    "pipeline.create_universe()\n",
    "\n",
    "# Check final status\n",
    "print(\"\\nFinal status:\")\n",
    "print(pipeline.check_data_status())"
   ]
  }
 ],
 "metadata": {
  "kernelspec": {
   "display_name": "ns_env",
   "language": "python",
   "name": "python3"
  },
  "language_info": {
   "codemirror_mode": {
    "name": "ipython",
    "version": 3
   },
   "file_extension": ".py",
   "mimetype": "text/x-python",
   "name": "python",
   "nbconvert_exporter": "python",
   "pygments_lexer": "ipython3",
   "version": "3.12.7"
  }
 },
 "nbformat": 4,
 "nbformat_minor": 2
}
