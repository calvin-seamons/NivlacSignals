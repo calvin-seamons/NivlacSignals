{
 "cells": [
  {
   "cell_type": "code",
   "execution_count": 19,
   "metadata": {},
   "outputs": [
    {
     "name": "stdout",
     "output_type": "stream",
     "text": [
      "The autoreload extension is already loaded. To reload it, use:\n",
      "  %reload_ext autoreload\n"
     ]
    }
   ],
   "source": [
    "%load_ext autoreload\n",
    "%autoreload 2"
   ]
  },
  {
   "cell_type": "code",
   "execution_count": 28,
   "metadata": {},
   "outputs": [],
   "source": [
    "import numpy as np\n",
    "import matplotlib.pyplot as plt\n",
    "import matplotlib as mpl\n",
    "import pandas as pd"
   ]
  },
  {
   "cell_type": "code",
   "execution_count": 20,
   "metadata": {},
   "outputs": [],
   "source": [
    "from data.data_pipeline import DataPipeline"
   ]
  },
  {
   "cell_type": "code",
   "execution_count": 23,
   "metadata": {},
   "outputs": [
    {
     "name": "stdout",
     "output_type": "stream",
     "text": [
      "16:02:28 - DataPipeline - INFO - Fetching data for 3 symbols...\n",
      "16:02:28 - DataPipeline - INFO - Successfully fetched data for 3 symbols\n",
      "\n",
      "Status after fetch:\n",
      "{'raw_data': {'count': 3, 'symbols': ['AAPL', 'MSFT', 'GOOGL'], 'sample_columns': ['Open', 'High', 'Low', 'Close', 'Volume', 'Dividends', 'Stock Splits']}, 'processed_data': {'count': 0, 'symbols': [], 'sample_columns': None}, 'universe': {'count': 0, 'symbols': []}}\n",
      "16:02:28 - DataPipeline - INFO - Starting data processing with 3 symbols\n",
      "16:02:28 - DataPipeline - INFO - Processed data for 3 symbols\n",
      "\n",
      "Status after processing:\n",
      "{'AAPL': {'missing_values': 60, 'data_points': 3522, 'start_date': Timestamp('2010-01-04 00:00:00-0500', tz='America/New_York'), 'end_date': Timestamp('2023-12-29 00:00:00-0500', tz='America/New_York'), 'avg_volume': 242283396.08177173, 'zero_volume_days': 0}, 'MSFT': {'missing_values': 60, 'data_points': 3522, 'start_date': Timestamp('2010-01-04 00:00:00-0500', tz='America/New_York'), 'end_date': Timestamp('2023-12-29 00:00:00-0500', tz='America/New_York'), 'avg_volume': 37277881.77172061, 'zero_volume_days': 0}, 'GOOGL': {'missing_values': 60, 'data_points': 3522, 'start_date': Timestamp('2010-01-04 00:00:00-0500', tz='America/New_York'), 'end_date': Timestamp('2023-12-29 00:00:00-0500', tz='America/New_York'), 'avg_volume': 58227074.161272004, 'zero_volume_days': 0}}\n",
      "16:02:28 - DataPipeline - INFO - Created universe with 3 symbols\n",
      "\n",
      "X_train shape: (8251, 1180)\n",
      "X_test shape: (2063, 1180)\n"
     ]
    }
   ],
   "source": [
    "# Initialize pipeline\n",
    "pipeline = DataPipeline(\n",
    "    start_date='2010-01-01',\n",
    "    end_date='2023-12-31',\n",
    "    universe_size=500,\n",
    "    cache_dir='data/cache',\n",
    "    price_col='Close'\n",
    ")\n",
    "\n",
    "# Fetch data\n",
    "symbols = ['AAPL', 'GOOGL', 'MSFT']\n",
    "pipeline.fetch_data(symbols)\n",
    "\n",
    "# Check status after fetch\n",
    "print(\"\\nStatus after fetch:\")\n",
    "print(pipeline.check_data_status())\n",
    "\n",
    "# Process data\n",
    "pipeline.process_data()\n",
    "\n",
    "# Check status after processing\n",
    "print(\"\\nStatus after processing:\")\n",
    "print(pipeline.validate_data_quality())\n",
    "\n",
    "# Create universe\n",
    "pipeline.create_universe()\n",
    "\n",
    "X_train, X_test, y_train, y_test = pipeline.get_training_data()\n",
    "\n",
    "print(\"\\nX_train shape:\", X_train.shape)\n",
    "print(\"X_test shape:\", X_test.shape)"
   ]
  },
  {
   "cell_type": "code",
   "execution_count": 29,
   "metadata": {},
   "outputs": [
    {
     "name": "stdout",
     "output_type": "stream",
     "text": [
      "\n",
      "y_train:\n",
      "0   -0.021445\n",
      "1   -0.083345\n",
      "2   -0.096634\n",
      "3   -0.046405\n",
      "4   -0.008350\n",
      "dtype: float64\n"
     ]
    }
   ],
   "source": [
    "# Print first 5 rows of y_train\n",
    "print(\"\\ny_train:\")\n",
    "print(pd.Series(y_train).head())\n"
   ]
  },
  {
   "cell_type": "code",
   "execution_count": 25,
   "metadata": {},
   "outputs": [
    {
     "name": "stderr",
     "output_type": "stream",
     "text": [
      "/usr/local/Caskroom/miniconda/base/envs/ns_env/lib/python3.12/site-packages/sklearn/utils/deprecation.py:151: FutureWarning: 'force_all_finite' was renamed to 'ensure_all_finite' in 1.6 and will be removed in 1.8.\n",
      "  warnings.warn(\n"
     ]
    },
    {
     "name": "stdout",
     "output_type": "stream",
     "text": [
      "16:05:13 - DataPipeline - INFO - Model Evaluation Results:\n",
      "16:05:13 - DataPipeline - INFO - mse: 0.0011\n",
      "16:05:13 - DataPipeline - INFO - rmse: 0.0331\n",
      "16:05:13 - DataPipeline - INFO - mae: 0.0248\n",
      "16:05:13 - DataPipeline - INFO - r2: 0.0099\n",
      "16:05:13 - DataPipeline - INFO - directional_accuracy: 0.5822\n",
      "16:05:13 - DataPipeline - INFO - precision: 0.6077\n",
      "16:05:13 - DataPipeline - INFO - recall: 0.8518\n"
     ]
    },
    {
     "name": "stderr",
     "output_type": "stream",
     "text": [
      "/usr/local/Caskroom/miniconda/base/envs/ns_env/lib/python3.12/site-packages/sklearn/utils/deprecation.py:151: FutureWarning: 'force_all_finite' was renamed to 'ensure_all_finite' in 1.6 and will be removed in 1.8.\n",
      "  warnings.warn(\n",
      "/usr/local/Caskroom/miniconda/base/envs/ns_env/lib/python3.12/site-packages/sklearn/utils/deprecation.py:151: FutureWarning: 'force_all_finite' was renamed to 'ensure_all_finite' in 1.6 and will be removed in 1.8.\n",
      "  warnings.warn(\n",
      "/usr/local/Caskroom/miniconda/base/envs/ns_env/lib/python3.12/site-packages/sklearn/utils/deprecation.py:151: FutureWarning: 'force_all_finite' was renamed to 'ensure_all_finite' in 1.6 and will be removed in 1.8.\n",
      "  warnings.warn(\n"
     ]
    },
    {
     "data": {
      "text/plain": [
       "{'mse': 0.0010975739349936041,\n",
       " 'rmse': 0.033129653408896446,\n",
       " 'mae': 0.02483929608471177,\n",
       " 'r2': 0.009896585216613851,\n",
       " 'directional_accuracy': 0.5821619001454192,\n",
       " 'precision': 0.6077411900635471,\n",
       " 'recall': 0.8518218623481781}"
      ]
     },
     "execution_count": 25,
     "metadata": {},
     "output_type": "execute_result"
    }
   ],
   "source": [
    "# Example usage\n",
    "from models.model_pipeline import ModelPipeline\n",
    "\n",
    "# Initialize pipeline\n",
    "pipeline = ModelPipeline()\n",
    "\n",
    "# Train model\n",
    "pipeline.train(X_train, y_train, X_test, y_test)\n",
    "\n",
    "# Generate predictions\n",
    "predictions = pipeline.predict(X_test)\n",
    "\n",
    "# Evaluate model\n",
    "pipeline.evaluate_model(X_test, y_test)"
   ]
  }
 ],
 "metadata": {
  "kernelspec": {
   "display_name": "ns_env",
   "language": "python",
   "name": "python3"
  },
  "language_info": {
   "codemirror_mode": {
    "name": "ipython",
    "version": 3
   },
   "file_extension": ".py",
   "mimetype": "text/x-python",
   "name": "python",
   "nbconvert_exporter": "python",
   "pygments_lexer": "ipython3",
   "version": "3.12.7"
  }
 },
 "nbformat": 4,
 "nbformat_minor": 2
}
