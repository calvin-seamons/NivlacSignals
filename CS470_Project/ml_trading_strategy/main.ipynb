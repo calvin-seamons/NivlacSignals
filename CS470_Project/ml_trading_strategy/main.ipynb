{
 "cells": [
  {
   "cell_type": "code",
   "execution_count": 1,
   "metadata": {},
   "outputs": [],
   "source": [
    "%load_ext autoreload\n",
    "%autoreload 2"
   ]
  },
  {
   "cell_type": "code",
   "execution_count": 2,
   "metadata": {},
   "outputs": [],
   "source": [
    "from data.data_pipeline import DataPipeline"
   ]
  },
  {
   "cell_type": "code",
   "execution_count": 8,
   "metadata": {},
   "outputs": [
    {
     "name": "stdout",
     "output_type": "stream",
     "text": [
      "14:40:09 - DataPipeline - INFO - Fetching data for 3 symbols...\n",
      "14:40:09 - DataPipeline - INFO - Successfully fetched data for 3 symbols\n",
      "\n",
      "Status after fetch:\n",
      "{'raw_data': {'count': 3, 'symbols': ['AAPL', 'MSFT', 'GOOGL'], 'sample_columns': ['Open', 'High', 'Low', 'Close', 'Volume', 'Dividends', 'Stock Splits']}, 'processed_data': {'count': 0, 'symbols': [], 'sample_columns': None}, 'universe': {'count': 0, 'symbols': []}}\n",
      "14:40:09 - DataPipeline - INFO - Starting data processing with 3 symbols\n",
      "14:40:09 - DataPipeline - INFO - Processed data for 3 symbols\n",
      "\n",
      "Status after processing:\n",
      "{'AAPL': {'missing_values': np.int64(60), 'data_points': 3522, 'start_date': Timestamp('2010-01-04 00:00:00-0500', tz='America/New_York'), 'end_date': Timestamp('2023-12-29 00:00:00-0500', tz='America/New_York'), 'avg_volume': np.float64(242283396.08177173), 'zero_volume_days': np.int64(0)}, 'MSFT': {'missing_values': np.int64(60), 'data_points': 3522, 'start_date': Timestamp('2010-01-04 00:00:00-0500', tz='America/New_York'), 'end_date': Timestamp('2023-12-29 00:00:00-0500', tz='America/New_York'), 'avg_volume': np.float64(37277881.77172061), 'zero_volume_days': np.int64(0)}, 'GOOGL': {'missing_values': np.int64(60), 'data_points': 3522, 'start_date': Timestamp('2010-01-04 00:00:00-0500', tz='America/New_York'), 'end_date': Timestamp('2023-12-29 00:00:00-0500', tz='America/New_York'), 'avg_volume': np.float64(58227074.161272004), 'zero_volume_days': np.int64(0)}}\n",
      "14:40:09 - DataPipeline - INFO - Created universe with 3 symbols\n",
      "\n",
      "X_train shape: (8251, 1180)\n",
      "X_test shape: (2063, 1180)\n"
     ]
    }
   ],
   "source": [
    "# Initialize pipeline\n",
    "pipeline = DataPipeline(\n",
    "    start_date='2010-01-01',\n",
    "    end_date='2023-12-31',\n",
    "    universe_size=500,\n",
    "    cache_dir='data/cache',\n",
    "    price_col='Close'\n",
    ")\n",
    "\n",
    "# Fetch data\n",
    "symbols = ['AAPL', 'GOOGL', 'MSFT']\n",
    "pipeline.fetch_data(symbols)\n",
    "\n",
    "# Check status after fetch\n",
    "print(\"\\nStatus after fetch:\")\n",
    "print(pipeline.check_data_status())\n",
    "\n",
    "# Process data\n",
    "pipeline.process_data()\n",
    "\n",
    "# Check status after processing\n",
    "print(\"\\nStatus after processing:\")\n",
    "print(pipeline.validate_data_quality())\n",
    "\n",
    "# Create universe\n",
    "pipeline.create_universe()\n",
    "\n",
    "X_train, X_test, y_train, y_test = pipeline.get_training_data()\n",
    "\n",
    "print(\"\\nX_train shape:\", X_train.shape)\n",
    "print(\"X_test shape:\", X_test.shape)"
   ]
  }
 ],
 "metadata": {
  "kernelspec": {
   "display_name": "ns_env",
   "language": "python",
   "name": "python3"
  },
  "language_info": {
   "codemirror_mode": {
    "name": "ipython",
    "version": 3
   },
   "file_extension": ".py",
   "mimetype": "text/x-python",
   "name": "python",
   "nbconvert_exporter": "python",
   "pygments_lexer": "ipython3",
   "version": "3.12.7"
  }
 },
 "nbformat": 4,
 "nbformat_minor": 2
}
